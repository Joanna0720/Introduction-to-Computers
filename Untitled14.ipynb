{
  "nbformat": 4,
  "nbformat_minor": 0,
  "metadata": {
    "colab": {
      "provenance": []
    },
    "kernelspec": {
      "name": "python3",
      "display_name": "Python 3"
    },
    "language_info": {
      "name": "python"
    }
  },
  "cells": [
    {
      "cell_type": "code",
      "source": [
        "score=int(input('score:'))\n",
        "if score >= 90:\n",
        "  print('Grade is: A')\n",
        "elif score >= 80:\n",
        "  print('Grade is: B')\n",
        "elif score >= 70:\n",
        "  print('Grade is: C')\n",
        "elif score >= 60:\n",
        "  print('Grade is: D')\n",
        "else:\n",
        "  print('Grade is: F')"
      ],
      "metadata": {
        "colab": {
          "base_uri": "https://localhost:8080/"
        },
        "id": "Md7bMwOz0tKj",
        "outputId": "56495b1f-3e61-4d8c-f5fa-ce6beb1c5f56"
      },
      "execution_count": 1,
      "outputs": [
        {
          "output_type": "stream",
          "name": "stdout",
          "text": [
            "score:50\n",
            "Grade is: F\n"
          ]
        }
      ]
    },
    {
      "cell_type": "code",
      "source": [
        "rain=str(input('今天會下雨嗎?'))\n",
        "if(rain=='Y' or rain=='y'):\n",
        " print('要帶傘')\n",
        "elif(rain=='N' or rain=='n'):\n",
        "  print('不用帶傘')"
      ],
      "metadata": {
        "colab": {
          "base_uri": "https://localhost:8080/"
        },
        "id": "4qlnO18i2bWf",
        "outputId": "521adc47-a97b-4373-8cd9-cccb09c8420f"
      },
      "execution_count": 2,
      "outputs": [
        {
          "output_type": "stream",
          "name": "stdout",
          "text": [
            "今天會下雨嗎?n\n",
            "不用帶傘\n"
          ]
        }
      ]
    },
    {
      "cell_type": "code",
      "source": [
        "temperature=float(input('temperature:'))\n",
        "if temperature >=37.5:\n",
        "  print('體溫過高!')\n",
        "elif temperature >=37:\n",
        "  print('體溫略高!')\n",
        "elif temperature >=36.9:\n",
        "  print('體溫正常!')\n",
        "else:\n",
        "  print('體溫異常，請重新量測!') "
      ],
      "metadata": {
        "colab": {
          "base_uri": "https://localhost:8080/"
        },
        "id": "R2KzW0Uc62Fk",
        "outputId": "217e14f3-cf70-45c0-e4e3-cd47f6ecc444"
      },
      "execution_count": 3,
      "outputs": [
        {
          "output_type": "stream",
          "name": "stdout",
          "text": [
            "temperature:36.5\n",
            "體溫異常，請重新量測!\n"
          ]
        }
      ]
    },
    {
      "cell_type": "code",
      "source": [
        "score=int(input('請輸入成績:'))\n",
        "if score >= 90:\n",
        "  print('A')\n",
        "elif score >= 80:\n",
        "  print('B')\n",
        "elif score >= 70:\n",
        "  print('C')\n",
        "elif score >= 60:\n",
        "  print('D')\n",
        "else:\n",
        "  print('E')"
      ],
      "metadata": {
        "colab": {
          "base_uri": "https://localhost:8080/"
        },
        "id": "PHi8RVhJ6OWc",
        "outputId": "ee7af5d0-cfaa-4b94-a47e-37128ffcc6ea"
      },
      "execution_count": 4,
      "outputs": [
        {
          "metadata": {
            "tags": null
          },
          "name": "stdout",
          "output_type": "stream",
          "text": [
            "A\n"
          ]
        }
      ]
    },
    {
      "cell_type": "code",
      "source": [
        "  season=int(input('請輸入月份:'))\n",
        "if season == 3 or 4 or 5:\n",
        "  print(season,'月為春天!')\n",
        "elif season == 6 or 7 or 8:\n",
        "  print(season,'月為夏天!')\n",
        "elif season == 9 or 10 or 11:\n",
        "  print(season,'月為秋天!')\n",
        "elif season == 12 or 1 or 2:\n",
        "  print(season,'月為冬天!')\n"
      ],
      "metadata": {
        "colab": {
          "base_uri": "https://localhost:8080/"
        },
        "id": "xRTGPEnX7KAj",
        "outputId": "d532e45d-4366-41af-99fb-5dcc805bfa0a"
      },
      "execution_count": 7,
      "outputs": [
        {
          "output_type": "stream",
          "name": "stdout",
          "text": [
            "請輸入月份:6\n",
            "6 月為春天!\n"
          ]
        }
      ]
    },
    {
      "cell_type": "code",
      "source": [
        "b=float\n",
        "a=int(input('請輸入今年收入淨額:'))\n",
        "if a>=2000000:\n",
        "  b=a*0.3\n",
        "  print('賦稅金額:',b)\n",
        "elif a>=1000000:\n",
        "  b=a*0.21\n",
        "  print('賦稅金額:',b)  \n",
        "elif a>=600000:\n",
        "  b=a*0.13\n",
        "  print('賦稅金額:',b)  \n",
        "elif a>=300000:\n",
        "  b=a*0.06\n",
        "  print('賦稅金額:',b)\n",
        "else:\n",
        "  print('賦稅淨額0元')     "
      ],
      "metadata": {
        "colab": {
          "base_uri": "https://localhost:8080/"
        },
        "id": "41IFQeBFgxVr",
        "outputId": "1765c85e-dbd7-476f-ae68-f9d62482beab"
      },
      "execution_count": 6,
      "outputs": [
        {
          "output_type": "stream",
          "name": "stdout",
          "text": [
            "請輸入今年收入淨額:100000\n",
            "賦稅淨額0元\n"
          ]
        }
      ]
    }
  ]
}