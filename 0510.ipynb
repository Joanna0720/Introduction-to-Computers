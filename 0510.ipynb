{
  "nbformat": 4,
  "nbformat_minor": 0,
  "metadata": {
    "colab": {
      "provenance": []
    },
    "kernelspec": {
      "name": "python3",
      "display_name": "Python 3"
    },
    "language_info": {
      "name": "python"
    }
  },
  "cells": [
    {
      "cell_type": "code",
      "execution_count": 2,
      "metadata": {
        "colab": {
          "base_uri": "https://localhost:8080/"
        },
        "id": "LNZ2_VoIsAMC",
        "outputId": "a477ac58-491d-4327-ffd1-fadcff1bbb30"
      },
      "outputs": [
        {
          "output_type": "stream",
          "name": "stdout",
          "text": [
            "請輸入分數：60\n",
            "及格\n"
          ]
        }
      ],
      "source": [
        "score=int(input('請輸入分數：'))\n",
        "if score >=60:\n",
        "  print('及格')\n",
        "else:\n",
        "  print(\"不及格\")"
      ]
    },
    {
      "cell_type": "code",
      "source": [
        "password = int(input('請輸入密碼：'))\n",
        "if password ==1234:\n",
        "  print('密碼正確')\n",
        "else:\n",
        "  print('密碼不正確')"
      ],
      "metadata": {
        "colab": {
          "base_uri": "https://localhost:8080/"
        },
        "id": "sc9jS8pqsWtr",
        "outputId": "99976e95-472f-4cc9-c85d-f81c2be2126f"
      },
      "execution_count": 3,
      "outputs": [
        {
          "output_type": "stream",
          "name": "stdout",
          "text": [
            "請輸入密碼：1234\n",
            "密碼正確\n"
          ]
        }
      ]
    },
    {
      "cell_type": "code",
      "source": [
        "rain = str(input('今天出門會下雨嗎？'))\n",
        "if(rain=='Y' or rain=='y'):\n",
        "  print('出門記得帶傘！')\n",
        "if(rain=='N' or rain=='n'):\n",
        "  print('不用帶傘')"
      ],
      "metadata": {
        "colab": {
          "base_uri": "https://localhost:8080/"
        },
        "id": "JyYYJ4tGsgN3",
        "outputId": "02e23625-cb56-4ddd-d5d6-18f4610ba2ba"
      },
      "execution_count": 4,
      "outputs": [
        {
          "output_type": "stream",
          "name": "stdout",
          "text": [
            "今天出門會下雨嗎？y\n",
            "出門記得帶傘！\n"
          ]
        }
      ]
    },
    {
      "cell_type": "code",
      "source": [
        "num=int(input('請輸入正整數：'))\n",
        "if num%2:\n",
        "  print(num,'為奇數')\n",
        "else:\n",
        "  print(num,'為偶數')"
      ],
      "metadata": {
        "colab": {
          "base_uri": "https://localhost:8080/"
        },
        "id": "eoFqoZfPsw-F",
        "outputId": "99256ecd-252c-4ef8-dd6c-43029ac38284"
      },
      "execution_count": 5,
      "outputs": [
        {
          "output_type": "stream",
          "name": "stdout",
          "text": [
            "請輸入正整數：51\n",
            "51 為奇數\n"
          ]
        }
      ]
    }
  ]
}