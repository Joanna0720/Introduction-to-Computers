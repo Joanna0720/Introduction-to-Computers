{
  "nbformat": 4,
  "nbformat_minor": 0,
  "metadata": {
    "colab": {
      "provenance": []
    },
    "kernelspec": {
      "name": "python3",
      "display_name": "Python 3"
    },
    "language_info": {
      "name": "python"
    }
  },
  "cells": [
    {
      "cell_type": "code",
      "execution_count": 1,
      "metadata": {
        "colab": {
          "base_uri": "https://localhost:8080/"
        },
        "id": "46DTz6L5RVfI",
        "outputId": "fe1cde85-645a-480e-bfc1-bedafe265c6c"
      },
      "outputs": [
        {
          "output_type": "stream",
          "name": "stdout",
          "text": [
            "peiyu\n",
            "peiyu\n"
          ]
        }
      ],
      "source": [
        "a=input()\n",
        "print(a)"
      ]
    },
    {
      "cell_type": "code",
      "source": [
        "a=input()\n",
        "print(len(a))\n",
        "b=input()\n",
        "print(len(b))"
      ],
      "metadata": {
        "colab": {
          "base_uri": "https://localhost:8080/"
        },
        "id": "yzCCi1VBRhpH",
        "outputId": "130244c6-8f07-4b5a-e860-5effa47c646b"
      },
      "execution_count": 2,
      "outputs": [
        {
          "output_type": "stream",
          "name": "stdout",
          "text": [
            "hello panda hi hi \n",
            "18\n",
            "good to drink  ?\n",
            "16\n"
          ]
        }
      ]
    },
    {
      "cell_type": "code",
      "source": [
        "h,w=input().split(\" \")\n",
        "int_h=int(h)\n",
        "int_w=int(w)\n",
        "h_a=int_h/100\n",
        "bmi=int_w/h_a**2\n",
        "print('%.2f'%bmi)"
      ],
      "metadata": {
        "colab": {
          "base_uri": "https://localhost:8080/"
        },
        "id": "VugkTBfDS5vg",
        "outputId": "6e90bcc8-e051-46f0-98f5-311c563ff7eb"
      },
      "execution_count": 5,
      "outputs": [
        {
          "output_type": "stream",
          "name": "stdout",
          "text": [
            "180 70\n",
            "21.60\n"
          ]
        }
      ]
    },
    {
      "cell_type": "code",
      "source": [
        "n=int(input('please input n:'))\n",
        "total=0\n",
        "for i in range(10,n+1):\n",
        " total +=i\n",
        "print(total)"
      ],
      "metadata": {
        "colab": {
          "base_uri": "https://localhost:8080/"
        },
        "id": "-0sVNIwlUSJB",
        "outputId": "e39fe2c9-71af-4e6c-f996-0ffdfcbd5a5f"
      },
      "execution_count": 11,
      "outputs": [
        {
          "output_type": "stream",
          "name": "stdout",
          "text": [
            "please input n:20\n",
            "165\n"
          ]
        }
      ]
    }
  ]
}